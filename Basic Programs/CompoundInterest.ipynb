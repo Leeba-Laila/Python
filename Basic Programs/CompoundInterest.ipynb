{
 "cells": [
  {
   "cell_type": "code",
   "execution_count": 1,
   "metadata": {},
   "outputs": [
    {
     "name": "stdout",
     "output_type": "stream",
     "text": [
      "Compoud Interest\n",
      "\n",
      "\n",
      "Enter the details:-\n",
      "\n",
      "Enter the principal amount: 10000\n",
      "\n",
      "Enter the time: 10.25\n",
      "\n",
      "Enter the rate: 5\n",
      "\n",
      "Compound Interest  =  6488.848034974573\n"
     ]
    }
   ],
   "source": [
    "print('Compoud Interest\\n')\n",
    "print('\\nEnter the details:-')\n",
    "p = float(input('\\nEnter the principal amount: '))\n",
    "t = float(input('\\nEnter the time: '))\n",
    "r = float(input('\\nEnter the rate: '))\n",
    "amt = p * (pow((1 + r/100),t))\n",
    "CI = amt - p\n",
    "print('\\nCompound Interest  = ',CI)"
   ]
  },
  {
   "cell_type": "code",
   "execution_count": null,
   "metadata": {},
   "outputs": [],
   "source": []
  }
 ],
 "metadata": {
  "kernelspec": {
   "display_name": "Python 3",
   "language": "python",
   "name": "python3"
  },
  "language_info": {
   "codemirror_mode": {
    "name": "ipython",
    "version": 3
   },
   "file_extension": ".py",
   "mimetype": "text/x-python",
   "name": "python",
   "nbconvert_exporter": "python",
   "pygments_lexer": "ipython3",
   "version": "3.8.3"
  }
 },
 "nbformat": 4,
 "nbformat_minor": 4
}
