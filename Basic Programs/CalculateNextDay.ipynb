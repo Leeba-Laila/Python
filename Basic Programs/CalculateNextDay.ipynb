{
 "cells": [
  {
   "cell_type": "code",
   "execution_count": null,
   "metadata": {},
   "outputs": [],
   "source": [
    "date = int(input(\"Enter any date ranging from 1 - 31: \"))\n",
    "month = int(input(\"Enter any number ranging from 1 - 12 corresponding to the month: \"))\n",
    "year = int(input(\"Enter the year: \"))\n",
    "if ((((year % 4) == 0) and ((year % 100) != 0)) or ((year % 400) == 0)):\n",
    "    if(month == 2):\n",
    "        newDate = 29\n",
    "    elif month in (1, 3, 5, 7, 8, 10, 12):\n",
    "        newDate = 31\n",
    "    else :\n",
    "        newDate = 30\n",
    "else:\n",
    "    if(month == 2):\n",
    "        newDate = 28\n",
    "    elif month in (1, 3, 5, 7, 8, 10, 12):\n",
    "        newDate = 31\n",
    "    else :\n",
    "        newDate = 30      \n",
    "if(date == 31 and month == 12):\n",
    "    date = 1\n",
    "    month = 1\n",
    "    year = year + 1   \n",
    "elif((newDate - date) == 0):\n",
    "    month = month + 1\n",
    "    date = 1\n",
    "else:\n",
    "    date = date + 1\n",
    "print(\"\\nThe next day is \", date, \"/\", month, \"/\", year)"
   ]
  }
 ],
 "metadata": {
  "kernelspec": {
   "display_name": "Python 3",
   "language": "python",
   "name": "python3"
  },
  "language_info": {
   "codemirror_mode": {
    "name": "ipython",
    "version": 3
   },
   "file_extension": ".py",
   "mimetype": "text/x-python",
   "name": "python",
   "nbconvert_exporter": "python",
   "pygments_lexer": "ipython3",
   "version": "3.8.3"
  }
 },
 "nbformat": 4,
 "nbformat_minor": 4
}
