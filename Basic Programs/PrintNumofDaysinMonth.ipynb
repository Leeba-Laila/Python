{
 "cells": [
  {
   "cell_type": "code",
   "execution_count": null,
   "metadata": {},
   "outputs": [],
   "source": [
    "month = input(\"Enter a month: \")\n",
    "monthLower = month.lower()\n",
    "if((monthLower == 'january') | (monthLower == 'march')| (monthLower == 'may')| (monthLower == 'july') | (monthLower == 'august') | (monthLower == 'october') | (monthLower == 'december')):\n",
    "    print(\"\\nNumber of days in {} is 31\".format(month))\n",
    "elif((monthLower == 'april') | (monthLower == 'june')| (monthLower == 'september')| (monthLower == 'november')):\n",
    "    print(\"\\nNumber of days in {} is 30\".format(month))\n",
    "elif((monthLower == 'february')):\n",
    "    print(\"\\nNumber of days in {} is 28. \\nIf Leap year, then number of days will be 29.\".format(month))\n",
    "else:\n",
    "    print(\"\\nInvalid month entry\")"
   ]
  }
 ],
 "metadata": {
  "kernelspec": {
   "display_name": "Python 3",
   "language": "python",
   "name": "python3"
  },
  "language_info": {
   "codemirror_mode": {
    "name": "ipython",
    "version": 3
   },
   "file_extension": ".py",
   "mimetype": "text/x-python",
   "name": "python",
   "nbconvert_exporter": "python",
   "pygments_lexer": "ipython3",
   "version": "3.8.3"
  }
 },
 "nbformat": 4,
 "nbformat_minor": 4
}
