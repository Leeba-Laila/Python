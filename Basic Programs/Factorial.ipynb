{
 "cells": [
  {
   "cell_type": "code",
   "execution_count": 31,
   "metadata": {},
   "outputs": [
    {
     "name": "stdout",
     "output_type": "stream",
     "text": [
      "Factorial\n",
      "\n",
      "\n",
      "Enter a number: -8\n",
      "\n",
      "Sorry. No factorial for a negative number\n"
     ]
    }
   ],
   "source": [
    "print(\"Factorial\\n\")\n",
    "n = int(input('\\nEnter a number: '))\n",
    "fact = 1\n",
    "if(n < 0):\n",
    "    print('\\nSorry. No factorial for a negative number')\n",
    "elif(n == 0):\n",
    "    print('\\nFactorial for 0 is 0')\n",
    "else:\n",
    "    for i in range(1,n+1):\n",
    "        fact = fact * i\n",
    "    print('\\nFactorial of ',n,' is',int(fact))\n"
   ]
  }
 ],
 "metadata": {
  "kernelspec": {
   "display_name": "Python 3",
   "language": "python",
   "name": "python3"
  },
  "language_info": {
   "codemirror_mode": {
    "name": "ipython",
    "version": 3
   },
   "file_extension": ".py",
   "mimetype": "text/x-python",
   "name": "python",
   "nbconvert_exporter": "python",
   "pygments_lexer": "ipython3",
   "version": "3.8.3"
  }
 },
 "nbformat": 4,
 "nbformat_minor": 4
}
