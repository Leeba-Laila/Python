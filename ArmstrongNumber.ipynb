{
 "cells": [
  {
   "cell_type": "code",
   "execution_count": 33,
   "metadata": {},
   "outputs": [
    {
     "name": "stdout",
     "output_type": "stream",
     "text": [
      "Enter a number: 370\n",
      "\n",
      "Entered number is an Amstrong number\n"
     ]
    }
   ],
   "source": [
    "n = int(input('Enter a number: '))\n",
    "val = str(n)\n",
    "length = len(val)\n",
    "n = int(n)\n",
    "num = n\n",
    "calc = 0\n",
    "for i in range(1, length+1):\n",
    "    r = n%10 \n",
    "    n = int(n/10)\n",
    "    calc = calc + pow(r,length)\n",
    "if(calc == num):\n",
    "    print('\\nEntered number is an Amstrong number')\n",
    "else:\n",
    "    print('\\nEntered number is not an Amstrong number')"
   ]
  },
  {
   "cell_type": "code",
   "execution_count": null,
   "metadata": {},
   "outputs": [],
   "source": []
  },
  {
   "cell_type": "code",
   "execution_count": null,
   "metadata": {},
   "outputs": [],
   "source": []
  }
 ],
 "metadata": {
  "kernelspec": {
   "display_name": "Python 3",
   "language": "python",
   "name": "python3"
  },
  "language_info": {
   "codemirror_mode": {
    "name": "ipython",
    "version": 3
   },
   "file_extension": ".py",
   "mimetype": "text/x-python",
   "name": "python",
   "nbconvert_exporter": "python",
   "pygments_lexer": "ipython3",
   "version": "3.8.3"
  }
 },
 "nbformat": 4,
 "nbformat_minor": 4
}
