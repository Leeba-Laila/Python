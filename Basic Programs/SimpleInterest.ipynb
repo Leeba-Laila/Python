{
 "cells": [
  {
   "cell_type": "code",
   "execution_count": 4,
   "metadata": {},
   "outputs": [
    {
     "name": "stdout",
     "output_type": "stream",
     "text": [
      "Simple Interest\n",
      "\n",
      "\n",
      "Enter the details:-\n",
      "\n",
      "Enter the Principal amount: 1000\n",
      "\n",
      "Enter the time: 2\n",
      "\n",
      "Enter the rate: 2\n",
      "Simple Interest =  40.0\n"
     ]
    }
   ],
   "source": [
    "print('Simple Interest\\n')\n",
    "print('\\nEnter the details:-')\n",
    "p = float(input('\\nEnter the Principal amount: '))\n",
    "t = float(input('\\nEnter the time: '))\n",
    "r = float(input('\\nEnter the rate: '))\n",
    "SI = (p * t* r)/100\n",
    "print('\\nSimple Interest = ',SI)"
   ]
  },
  {
   "cell_type": "code",
   "execution_count": null,
   "metadata": {},
   "outputs": [],
   "source": []
  }
 ],
 "metadata": {
  "kernelspec": {
   "display_name": "Python 3",
   "language": "python",
   "name": "python3"
  },
  "language_info": {
   "codemirror_mode": {
    "name": "ipython",
    "version": 3
   },
   "file_extension": ".py",
   "mimetype": "text/x-python",
   "name": "python",
   "nbconvert_exporter": "python",
   "pygments_lexer": "ipython3",
   "version": "3.8.3"
  }
 },
 "nbformat": 4,
 "nbformat_minor": 4
}
