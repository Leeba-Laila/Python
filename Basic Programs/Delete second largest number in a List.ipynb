{
 "cells": [
  {
   "cell_type": "code",
   "execution_count": 17,
   "metadata": {},
   "outputs": [
    {
     "name": "stdout",
     "output_type": "stream",
     "text": [
      "Enter the limit: 5\n",
      "Enter the number in index  0 : \n",
      "90\n",
      "Enter the number in index  1 : \n",
      "9\n",
      "Enter the number in index  2 : \n",
      "78\n",
      "Enter the number in index  3 : \n",
      "9\n",
      "Enter the number in index  4 : \n",
      "5\n",
      "\n",
      "Numbers in list :  [90, 9, 78, 9, 5]\n",
      "\n",
      "Numbers in set :  {9, 90, 5, 78}\n",
      "\n",
      "Present maximum number:  90\n",
      "\n",
      "Numbers in set :  {9, 5, 78}\n",
      "\n",
      "Present maximum number after removing 90 is  78\n",
      "\n",
      "List of number after deleting the second maximum number:  [9, 5, 78, 90]\n"
     ]
    }
   ],
   "source": [
    "numList = []\n",
    "limit = int(input(\"Enter the limit: \"))\n",
    "for i in range(0,limit):\n",
    "    print(\"Enter the number in index \",i,\": \")\n",
    "    num = int(input())\n",
    "    numList.append(num)\n",
    "print(\"\\nNumbers in list : \",numList)\n",
    "numList = set(numList)\n",
    "print(\"\\nNumbers in set : \",numList)\n",
    "maxNum1 = max(numList)\n",
    "print(\"\\nPresent maximum number: \",maxNum1)\n",
    "numList.remove(maxNum1)\n",
    "print(\"\\nNumbers in set : \",numList)\n",
    "maxNum = max(numList)\n",
    "print(\"\\nPresent maximum number after removing\",maxNum1,\"is \",maxNum)\n",
    "numList = list(numList)\n",
    "numList.append(maxNum1)\n",
    "print(\"\\nList of number after deleting the second maximum number: \",numList)"
   ]
  },
  {
   "cell_type": "code",
   "execution_count": null,
   "metadata": {},
   "outputs": [],
   "source": []
  },
  {
   "cell_type": "code",
   "execution_count": null,
   "metadata": {},
   "outputs": [],
   "source": []
  }
 ],
 "metadata": {
  "kernelspec": {
   "display_name": "Python 3",
   "language": "python",
   "name": "python3"
  },
  "language_info": {
   "codemirror_mode": {
    "name": "ipython",
    "version": 3
   },
   "file_extension": ".py",
   "mimetype": "text/x-python",
   "name": "python",
   "nbconvert_exporter": "python",
   "pygments_lexer": "ipython3",
   "version": "3.8.3"
  }
 },
 "nbformat": 4,
 "nbformat_minor": 4
}
