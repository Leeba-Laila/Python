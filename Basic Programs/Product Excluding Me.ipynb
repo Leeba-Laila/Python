{
 "cells": [
  {
   "cell_type": "code",
   "execution_count": 4,
   "metadata": {},
   "outputs": [
    {
     "name": "stdout",
     "output_type": "stream",
     "text": [
      "5\n",
      "1\n",
      "2\n",
      "3\n",
      "4\n",
      "5\n",
      "[120, 60, 40, 30, 24]\n"
     ]
    }
   ],
   "source": [
    "# 8. Product Excluding Me\n",
    "\n",
    "N = int(input())\n",
    "arr = []\n",
    "tarr = []\n",
    "for i in range(0,N):\n",
    "    temp = int(input())\n",
    "    arr.append(temp)\n",
    "tarr = arr\n",
    "res = []\n",
    "mul = 1\n",
    "for a in tarr:\n",
    "    for b in arr:\n",
    "        if(a != b):\n",
    "            mul = mul * b\n",
    "        else:\n",
    "            continue\n",
    "    res.append(mul)\n",
    "    mul = 1\n",
    "print(res)"
   ]
  },
  {
   "cell_type": "code",
   "execution_count": null,
   "metadata": {},
   "outputs": [],
   "source": []
  }
 ],
 "metadata": {
  "kernelspec": {
   "display_name": "Python 3",
   "language": "python",
   "name": "python3"
  },
  "language_info": {
   "codemirror_mode": {
    "name": "ipython",
    "version": 3
   },
   "file_extension": ".py",
   "mimetype": "text/x-python",
   "name": "python",
   "nbconvert_exporter": "python",
   "pygments_lexer": "ipython3",
   "version": "3.8.3"
  }
 },
 "nbformat": 4,
 "nbformat_minor": 4
}
