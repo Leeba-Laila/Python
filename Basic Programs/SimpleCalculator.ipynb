{
 "cells": [
  {
   "cell_type": "code",
   "execution_count": 3,
   "metadata": {},
   "outputs": [
    {
     "name": "stdout",
     "output_type": "stream",
     "text": [
      "Calculator \n",
      " \n",
      " *   /   %   +   - \n",
      "\n",
      "Enter an operator\n",
      "%\n",
      "\n",
      "Enter the first number: 13\n",
      "\n",
      "Enter the second number: 5\n",
      "\n",
      "Result :  3.0\n"
     ]
    }
   ],
   "source": [
    "print('Calculator \\n \\n *   /   %   +   - \\n')\n",
    "a = str(input('Enter an operator\\n'))\n",
    "x = input('\\nEnter the first number: ')\n",
    "y = input('\\nEnter the second number: ')\n",
    "if(a == \"*\"):\n",
    "    z = float(x) * float(y)\n",
    "    print('\\nResult : ',z)\n",
    "elif(a == \"/\"):\n",
    "    z = float(x) / float(y)\n",
    "    print('\\nResult : ',z)\n",
    "elif(a == \"%\"):\n",
    "    z = float(x) % float(y)\n",
    "    print('\\nResult : ',z)\n",
    "elif(a == \"+\"):\n",
    "    z = float(x) + float(y)\n",
    "    print('\\nResult : ',z)\n",
    "elif(a == \"-\"):\n",
    "    z = float(x) - float(y)\n",
    "    print('\\nResult : ',z)\n",
    "else:\n",
    "    print('\\nInvalid Operator')"
   ]
  },
  {
   "cell_type": "code",
   "execution_count": null,
   "metadata": {},
   "outputs": [],
   "source": []
  }
 ],
 "metadata": {
  "kernelspec": {
   "display_name": "Python 3",
   "language": "python",
   "name": "python3"
  },
  "language_info": {
   "codemirror_mode": {
    "name": "ipython",
    "version": 3
   },
   "file_extension": ".py",
   "mimetype": "text/x-python",
   "name": "python",
   "nbconvert_exporter": "python",
   "pygments_lexer": "ipython3",
   "version": "3.8.3"
  }
 },
 "nbformat": 4,
 "nbformat_minor": 4
}
